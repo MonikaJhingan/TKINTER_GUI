{
 "cells": [
  {
   "cell_type": "code",
   "execution_count": 374,
   "metadata": {},
   "outputs": [],
   "source": [
    "# imported tkinter module (Python's de facto standard GUI)\n",
    "\n",
    "import tkinter\n",
    "\n",
    "from tkinter import filedialog\n",
    "\n",
    "\n"
   ]
  },
  {
   "cell_type": "code",
   "execution_count": 375,
   "metadata": {},
   "outputs": [],
   "source": [
    "#imports the tkinter module along with Tk() toolkit(tkinter module contains all classes and functions needed to work with TK() toolkit)\n",
    "\n",
    "\n",
    "from tkinter import *\n",
    "\n"
   ]
  },
  {
   "cell_type": "code",
   "execution_count": 376,
   "metadata": {},
   "outputs": [
    {
     "data": {
      "text/plain": [
       "''"
      ]
     },
     "execution_count": 376,
     "metadata": {},
     "output_type": "execute_result"
    }
   ],
   "source": [
    "#This creates a top level Window \"root\",also called Highest Level GUI component which contains maximize, minimize and close icons.\n",
    "\n",
    "\n",
    "root=Tk()\n",
    "\n",
    "root.title(\"Map_Loc\")\n"
   ]
  },
  {
   "cell_type": "code",
   "execution_count": 377,
   "metadata": {},
   "outputs": [
    {
     "data": {
      "text/plain": [
       "''"
      ]
     },
     "execution_count": 377,
     "metadata": {},
     "output_type": "execute_result"
    }
   ],
   "source": [
    "#To set the specific size of the \"root window\",geometry() funtion is used.\n",
    "\n",
    "root.geometry(\"300x300\")\n",
    "\n"
   ]
  },
  {
   "cell_type": "code",
   "execution_count": 378,
   "metadata": {},
   "outputs": [],
   "source": [
    "#configure() function of class Tk() sets the color of window named \"root\" in this case.\n",
    "\n",
    "\n",
    "root.configure(bg='lavender')\n",
    "\n"
   ]
  },
  {
   "cell_type": "markdown",
   "metadata": {},
   "source": []
  },
  {
   "cell_type": "code",
   "execution_count": null,
   "metadata": {},
   "outputs": [],
   "source": []
  },
  {
   "cell_type": "code",
   "execution_count": 379,
   "metadata": {},
   "outputs": [],
   "source": [
    "#constellation is a list that includes all options which  will appear in the dropdown list.\n",
    "\n",
    "constellation=[\"GPS\",\"IRNSS\",\"GALILEO\",\"BEIDOU\"]\n"
   ]
  },
  {
   "cell_type": "code",
   "execution_count": 380,
   "metadata": {},
   "outputs": [],
   "source": [
    "#Here we have used StringVar which holds string data type and is a bulit in data type of tkinter.\n",
    "\n",
    "variable=StringVar(root)\n"
   ]
  },
  {
   "cell_type": "code",
   "execution_count": 381,
   "metadata": {},
   "outputs": [],
   "source": [
    "#set() method is used here to set the value of the variable .\n",
    "\n",
    "variable.set(\"Select\")"
   ]
  },
  {
   "cell_type": "code",
   "execution_count": 382,
   "metadata": {},
   "outputs": [],
   "source": [
    "#Option Menu here is also alled a dropdownlist  used to provide options to the user.\n",
    "\n",
    "drop1=OptionMenu(root,variable,*constellation)\n"
   ]
  },
  {
   "cell_type": "code",
   "execution_count": 383,
   "metadata": {},
   "outputs": [],
   "source": [
    "#Label is a widget used to implement display boxes where we can put text and images.\n",
    "\n",
    "\n",
    "label_widget=Label(root,text=\"CONSTELLATION\",background=\"LightSkyBlue1\",foreground=\"Black\",padx=10,pady=9).grid(row=1,column=2)\n",
    "\n"
   ]
  },
  {
   "cell_type": "code",
   "execution_count": 384,
   "metadata": {},
   "outputs": [],
   "source": [
    "#config() funtion here is used to maintain the size of dropdown box.\n",
    "\n",
    "drop1.config(width=12)\n"
   ]
  },
  {
   "cell_type": "code",
   "execution_count": 385,
   "metadata": {},
   "outputs": [],
   "source": [
    "# The grid() geometry manager organises widgets in a table-like structure in the parent widget. \n",
    "\n",
    "drop1.grid(row=2,column=2)"
   ]
  },
  {
   "cell_type": "code",
   "execution_count": 386,
   "metadata": {},
   "outputs": [],
   "source": [
    "radio=[\"HackRF\",\"PlutoSDR\",\"LimeSDR\",\"VSRPB210\",\"BladeRF\"]\n",
    "variable1=StringVar(root)\n",
    "variable1.set(\"Select\")\n",
    "drop2=OptionMenu(root,variable1,*radio)\n",
    "\n",
    "label_widget=Label(root,text=\"RADIO SIGNAL\",background=\"LightSkyBlue1\",foreground=\"Black\",padx=10,pady=9).grid(row=1,column=3)\n",
    "\n",
    "drop2.config(width=12)\n",
    "\n",
    "drop2.grid(row=2,column=3)"
   ]
  },
  {
   "cell_type": "code",
   "execution_count": 387,
   "metadata": {},
   "outputs": [],
   "source": [
    "label_widget=Label(root,text=\"SELECT ALMANAC FILE\",background=\"LightSkyBlue1\",foreground=\"Black\",padx=10,pady=9).grid(row=1,column=4)\n",
    "\n",
    "\n",
    "def dialog():\n",
    "    filename =  filedialog.askopenfilename(initialdir = \"/\",title = \"Select file\",filetypes = ((\"AOL FILES\",\"*.AOL\"),(\"all files\",\"*.*\")))\n",
    "    print (filename)\n",
    "\n",
    "button=Button(text=\"Open File\",command=dialog)\n",
    "button.config(width=19)\n",
    "button.grid(row=2,column=4)"
   ]
  },
  {
   "cell_type": "code",
   "execution_count": 388,
   "metadata": {},
   "outputs": [],
   "source": [
    "\n",
    "\n",
    "\n",
    "        \n",
    "position=[\"STATIC \",\"DYNAMIC \"]\n",
    "\n",
    "\n",
    "variable2=StringVar(root)\n",
    "\n",
    "x=variable2.set(position[0])\n",
    "\n",
    "drop3=OptionMenu(root,variable2,*position)\n",
    "\n",
    "label_widget=Label(root,text=\"POSITION\",background=\"LightSkyBlue1\",foreground=\"Black\",padx=10,pady=9).grid(row=1,column=5)\n",
    "drop3.config(width=8)\n",
    "\n",
    "drop3.grid(row=2,column=5)\n",
    "\n",
    "\n"
   ]
  },
  {
   "cell_type": "code",
   "execution_count": null,
   "metadata": {},
   "outputs": [],
   "source": [
    "#Here  we run the method ‘mainloop’ on object ‘root’ for our application to run\n",
    "root.mainloop()"
   ]
  },
  {
   "cell_type": "code",
   "execution_count": null,
   "metadata": {},
   "outputs": [],
   "source": []
  },
  {
   "cell_type": "code",
   "execution_count": null,
   "metadata": {},
   "outputs": [],
   "source": []
  },
  {
   "cell_type": "code",
   "execution_count": null,
   "metadata": {},
   "outputs": [],
   "source": []
  },
  {
   "cell_type": "markdown",
   "metadata": {},
   "source": [
    "#### "
   ]
  }
 ],
 "metadata": {
  "kernelspec": {
   "display_name": "Python 3",
   "language": "python",
   "name": "python3"
  },
  "language_info": {
   "codemirror_mode": {
    "name": "ipython",
    "version": 3
   },
   "file_extension": ".py",
   "mimetype": "text/x-python",
   "name": "python",
   "nbconvert_exporter": "python",
   "pygments_lexer": "ipython3",
   "version": "3.7.3"
  },
  "widgets": {
   "application/vnd.jupyter.widget-state+json": {
    "state": {},
    "version_major": 2,
    "version_minor": 0
   }
  }
 },
 "nbformat": 4,
 "nbformat_minor": 2
}
